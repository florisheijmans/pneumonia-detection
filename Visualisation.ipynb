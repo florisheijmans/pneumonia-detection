{
 "cells": [
  {
   "cell_type": "markdown",
   "metadata": {},
   "source": [
    "### Importing a bunch of stuff (most of it is useless here but i was lazy)"
   ]
  },
  {
   "cell_type": "code",
   "execution_count": null,
   "metadata": {
    "scrolled": false
   },
   "outputs": [],
   "source": [
    "import os\n",
    "import glob\n",
    "import h5py\n",
    "import shutil\n",
    "import imgaug as aug\n",
    "import numpy as np\n",
    "import pandas as pd\n",
    "import seaborn as sns\n",
    "import matplotlib.pyplot as plt\n",
    "import matplotlib.image as mimg\n",
    "import imgaug.augmenters as iaa\n",
    "from os import listdir, makedirs, getcwd, remove\n",
    "from os.path import isfile, join, abspath, exists, isdir, expanduser\n",
    "from PIL import Image\n",
    "from pathlib import Path\n",
    "from skimage.io import imread\n",
    "from skimage.transform import resize\n",
    "from keras.models import Sequential, Model, load_model\n",
    "from keras import applications\n",
    "from keras.applications.vgg16 import VGG16, preprocess_input\n",
    "from keras.preprocessing.image import ImageDataGenerator,load_img, img_to_array\n",
    "from keras.models import Sequential\n",
    "from keras.layers import Conv2D, MaxPooling2D, Dense, Dropout, Input, Flatten, SeparableConv2D\n",
    "from keras.layers import GlobalMaxPooling2D\n",
    "from keras.layers.normalization import BatchNormalization\n",
    "from keras.layers.merge import Concatenate\n",
    "from keras.models import Model\n",
    "from keras.optimizers import Adam, SGD, RMSprop\n",
    "from keras.callbacks import ModelCheckpoint, Callback, EarlyStopping\n",
    "from keras.utils import to_categorical\n",
    "from sklearn.model_selection import train_test_split\n",
    "from sklearn.preprocessing import StandardScaler\n",
    "from mlxtend.plotting import plot_confusion_matrix\n",
    "from sklearn.metrics import confusion_matrix\n",
    "import cv2\n",
    "from keras import backend as K\n",
    "import tensorflow as tf\n",
    "\n",
    "\n",
    "# Disable multi-threading in tensorflow ops\n",
    "session_conf = tf.compat.v1.ConfigProto(intra_op_parallelism_threads=1, inter_op_parallelism_threads=1)\n",
    "# Set the random seed in tensorflow at graph level\n",
    "tf.compat.v1.set_random_seed(111)\n",
    "# Define a tensorflow session with above session configs\n",
    "sess = tf.compat.v1.Session(graph=tf.compat.v1.get_default_graph(), config=session_conf)\n",
    "# Set the session in keras\n",
    "tf.compat.v1.keras.backend.set_session(sess)"
   ]
  },
  {
   "cell_type": "markdown",
   "metadata": {},
   "source": [
    "### Creating an empty model"
   ]
  },
  {
   "cell_type": "code",
   "execution_count": null,
   "metadata": {},
   "outputs": [],
   "source": [
    "def create_empty_model():\n",
    "    model = applications.inception_resnet_v2.InceptionResNetV2(\n",
    "        include_top=False, #Default:(299,299,3)\n",
    "        weights='imagenet',\n",
    "        input_shape=(299,299,3),\n",
    "        pooling='max'\n",
    "    )\n",
    "\n",
    "    # Freeze layers\n",
    "    for layer in model.layers:\n",
    "        layer.trainable = False\n",
    "\n",
    "    # Add trainable layers to the model\n",
    "    x = model.output\n",
    "    #model.summary()\n",
    "    predictions = Dense(2, activation='softmax')(x)\n",
    "\n",
    "    # Create the final model and compile it\n",
    "    final_model = Model(inputs=model.input, outputs=predictions)\n",
    "\n",
    "    # Compile model with optimization setting\n",
    "    opt = Adam(lr=0.001, decay=1e-5)\n",
    "    final_model.compile(loss='binary_crossentropy', metrics=['accuracy'],optimizer=opt)\n",
    "\n",
    "    return final_model"
   ]
  },
  {
   "cell_type": "markdown",
   "metadata": {},
   "source": [
    "### Loading in the best models for normal vs pneumonia and bacterial vs viral"
   ]
  },
  {
   "cell_type": "code",
   "execution_count": null,
   "metadata": {
    "scrolled": true
   },
   "outputs": [],
   "source": [
    "normpneum_test_model = create_empty_model()\n",
    "normpneum_test_model.load_weights('best_normpneum_checkpoint.hdf5') #TODO: change to latest best model\n",
    "bactviral_test_model = create_empty_model()\n",
    "bactviral_test_model.load_weights('best_bactviral_checkpoint.hdf5') #TODO: change to latest best model\n"
   ]
  },
  {
   "cell_type": "markdown",
   "metadata": {},
   "source": [
    "### Loading in images"
   ]
  },
  {
   "cell_type": "code",
   "execution_count": null,
   "metadata": {},
   "outputs": [],
   "source": [
    "bacteria_path = Path(\"chest_xray/images/test/BACTERIA\")\n",
    "virus_path = Path(\"chest_xray/images/test/VIRUS\")\n",
    "normal_path = Path(\"chest_xray/images/test/NORMAL\")"
   ]
  },
  {
   "cell_type": "code",
   "execution_count": null,
   "metadata": {},
   "outputs": [],
   "source": [
    "bacteria_filenames = []\n",
    "virus_filenames = []\n",
    "normal_filenames = []\n",
    "\n",
    "for (dirpath, dirnames, filenames) in os.walk(bacteria_path):\n",
    "    bacteria_filenames += [os.path.join(dirpath, file) for file in filenames]\n",
    "for (dirpath, dirnames, filenames) in os.walk(virus_path):\n",
    "    virus_filenames += [os.path.join(dirpath, file) for file in filenames]\n",
    "for (dirpath, dirnames, filenames) in os.walk(normal_path):\n",
    "    normal_filenames += [os.path.join(dirpath, file) for file in filenames]"
   ]
  },
  {
   "cell_type": "markdown",
   "metadata": {},
   "source": [
    "### Select some images to show"
   ]
  },
  {
   "cell_type": "code",
   "execution_count": null,
   "metadata": {
    "scrolled": false
   },
   "outputs": [],
   "source": [
    "#Now just choosing random idices, would be better if we know how they are classified by our model\n",
    "\n",
    "import random\n",
    "normal_index = random.randrange(len(normal_filenames))\n",
    "norm_img_filename = normal_filenames[normal_index]\n",
    "norm_image = np.array(load_img(norm_img_filename), dtype=np.uint8)\n",
    "\n",
    "bacteria_index = random.randrange(len(bacteria_filenames))\n",
    "bac_img_filename = bacteria_filenames[bacteria_index]\n",
    "bac_image = np.array(load_img(bac_img_filename), dtype=np.uint8)\n",
    "\n",
    "\n",
    "virus_index = random.randrange(len(virus_filenames))\n",
    "vir_img_filename = virus_filenames[virus_index]\n",
    "virus_image = np.array(load_img(vir_img_filename), dtype=np.uint8)\n",
    "\n",
    "f, (ax1, ax2, ax3) = plt.subplots(1, 3, figsize=(20, 20))\n",
    "ax1.imshow(norm_image)\n",
    "ax1.set_title('Normal')\n",
    "ax2.imshow(bac_image)\n",
    "ax2.set_title('Bacteria')\n",
    "ax3.imshow(virus_image)\n",
    "ax3.set_title('Virus')"
   ]
  },
  {
   "cell_type": "markdown",
   "metadata": {},
   "source": [
    "### Final layer of the models (we should add our own conv layer)"
   ]
  },
  {
   "cell_type": "code",
   "execution_count": null,
   "metadata": {
    "scrolled": true
   },
   "outputs": [],
   "source": [
    "normpneum_final_layer = 'conv_7b'\n",
    "bactviral_final_layer = 'conv_7b'\n",
    "\n",
    "normpneum_test_model.summary()\n",
    "#bactviral_test_model.summary()"
   ]
  },
  {
   "cell_type": "code",
   "execution_count": null,
   "metadata": {},
   "outputs": [],
   "source": [
    "from gradcamutils import GradCam, GradCamPlusPlus, ScoreCam, build_guided_model, GuidedBackPropagation, superimpose, read_and_preprocess_img"
   ]
  },
  {
   "cell_type": "code",
   "execution_count": null,
   "metadata": {},
   "outputs": [],
   "source": [
    "norm_img_array = read_and_preprocess_img(norm_img_filename, size=(299,299))\n",
    "bac_img_array = read_and_preprocess_img(bac_img_filename, size=(299,299))\n",
    "vir_img_array = read_and_preprocess_img(vir_img_filename, size=(299,299))"
   ]
  },
  {
   "cell_type": "code",
   "execution_count": null,
   "metadata": {},
   "outputs": [],
   "source": [
    "maxN = 100 \n",
    "# maxN makes the ScoreCam below way faster, \n",
    "# but we do not really know yet what it does (and it can affect the final image drastically)"
   ]
  },
  {
   "cell_type": "markdown",
   "metadata": {},
   "source": [
    "### With normal vs pneumonia model:"
   ]
  },
  {
   "cell_type": "code",
   "execution_count": null,
   "metadata": {},
   "outputs": [],
   "source": [
    "norm_score_cam = ScoreCam(normpneum_test_model, norm_img_array, normpneum_final_layer, max_N=maxN)"
   ]
  },
  {
   "cell_type": "code",
   "execution_count": null,
   "metadata": {},
   "outputs": [],
   "source": [
    "bac_score_cam = ScoreCam(normpneum_test_model, bac_img_array, normpneum_final_layer, max_N=maxN)"
   ]
  },
  {
   "cell_type": "code",
   "execution_count": null,
   "metadata": {
    "scrolled": true
   },
   "outputs": [],
   "source": [
    "vir_score_cam = ScoreCam(normpneum_test_model, vir_img_array, normpneum_final_layer, max_N=maxN)"
   ]
  },
  {
   "cell_type": "code",
   "execution_count": null,
   "metadata": {
    "scrolled": false
   },
   "outputs": [],
   "source": [
    "norm_superimposed = superimpose(norm_img_filename, norm_score_cam)\n",
    "bac_superimposed = superimpose(bac_img_filename, bac_score_cam)\n",
    "vir_superimposed = superimpose(vir_img_filename, vir_score_cam)\n",
    "\n",
    "f, axarr = plt.subplots(2, 3, figsize=(15,10))\n",
    "plt.tight_layout()\n",
    "axarr[0, 0].imshow(norm_score_cam)\n",
    "axarr[0, 0].set_title('Normal')\n",
    "axarr[0, 1].imshow(bac_score_cam)\n",
    "axarr[0, 1].set_title('Bacterial')\n",
    "axarr[0, 2].imshow(vir_score_cam)\n",
    "axarr[0, 2].set_title('Bacterial')\n",
    "\n",
    "\n",
    "axarr[1, 0].imshow(norm_superimposed)\n",
    "axarr[1, 1].imshow(bac_superimposed)\n",
    "axarr[1, 2].imshow(vir_superimposed)"
   ]
  },
  {
   "cell_type": "markdown",
   "metadata": {},
   "source": [
    "### With bacterial vs viral model:"
   ]
  },
  {
   "cell_type": "code",
   "execution_count": null,
   "metadata": {
    "scrolled": false
   },
   "outputs": [],
   "source": [
    "norm_score_cam2 = ScoreCam(bactviral_test_model, norm_img_array, normpneum_final_layer, max_N=maxN)"
   ]
  },
  {
   "cell_type": "code",
   "execution_count": null,
   "metadata": {},
   "outputs": [],
   "source": [
    "bac_score_cam2 = ScoreCam(bactviral_test_model, bac_img_array, normpneum_final_layer, max_N=maxN)"
   ]
  },
  {
   "cell_type": "code",
   "execution_count": null,
   "metadata": {},
   "outputs": [],
   "source": [
    "vir_score_cam2 = ScoreCam(bactviral_test_model, vir_img_array, normpneum_final_layer, max_N=maxN)"
   ]
  },
  {
   "cell_type": "code",
   "execution_count": null,
   "metadata": {},
   "outputs": [],
   "source": [
    "norm_superimposed2 = superimpose(norm_img_filename, norm_score_cam2)\n",
    "bac_superimposed2 = superimpose(bac_img_filename, bac_score_cam2)\n",
    "vir_superimposed2 = superimpose(vir_img_filename, vir_score_cam2)\n",
    "\n",
    "f, axarr = plt.subplots(2, 3, figsize=(15,10))\n",
    "axarr[0, 0].imshow(norm_score_cam2)\n",
    "axarr[0, 0].set_title('Normal')\n",
    "axarr[0, 1].imshow(bac_score_cam2)\n",
    "axarr[0, 1].set_title('Bacterial')\n",
    "axarr[0, 2].imshow(vir_score_cam2)\n",
    "axarr[0, 2].set_title('Bacterial')\n",
    "\n",
    "\n",
    "axarr[1, 0].imshow(norm_superimposed2)\n",
    "axarr[1, 1].imshow(bac_superimposed2)\n",
    "axarr[1, 2].imshow(vir_superimposed2)"
   ]
  }
 ],
 "metadata": {
  "kernelspec": {
   "display_name": "Python 3",
   "language": "python",
   "name": "python3"
  },
  "language_info": {
   "codemirror_mode": {
    "name": "ipython",
    "version": 3
   },
   "file_extension": ".py",
   "mimetype": "text/x-python",
   "name": "python",
   "nbconvert_exporter": "python",
   "pygments_lexer": "ipython3",
   "version": "3.6.4"
  }
 },
 "nbformat": 4,
 "nbformat_minor": 2
}
